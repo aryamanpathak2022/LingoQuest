{
 "cells": [
  {
   "cell_type": "markdown",
   "metadata": {
    "colab_type": "text",
    "id": "view-in-github"
   },
   "source": [
    "<a href=\"https://colab.research.google.com/github/aryamanpathak2022/LingoQuest/blob/main/Chatbot/bot.ipynb\" target=\"_parent\"><img src=\"https://colab.research.google.com/assets/colab-badge.svg\" alt=\"Open In Colab\"/></a>"
   ]
  },
  {
   "cell_type": "code",
   "execution_count": 3,
   "metadata": {
    "colab": {
     "base_uri": "https://localhost:8080/"
    },
    "id": "e223CXLFM02z",
    "outputId": "6395c466-29d5-425d-febc-31ad170fa876"
   },
   "outputs": [
    {
     "name": "stdout",
     "output_type": "stream",
     "text": [
      "Writing app.py\n"
     ]
    }
   ],
   "source": [
    "%%writefile app.py\n",
    "import os\n",
    "import streamlit as st\n",
    "from openai import OpenAI\n",
    "\n",
    "# Authenticate with the model using a personal access token\n",
    "client = OpenAI(\n",
    "    base_url=\"https://models.inference.ai.azure.com\",\n",
    "    api_key=\"open_ai_key\"\n",
    ")\n",
    "\n",
    "# Streamlit app UI for chat interface\n",
    "st.title(\"Chat with LingoQuest\")\n",
    "\n",
    "# Chat history\n",
    "if \"chat_history\" not in st.session_state:\n",
    "    st.session_state.chat_history = [\n",
    "        {\"role\": \"system\", \"content\": \"You are now chatting with LingoQuest, your language learning assistant!\"}\n",
    "    ]\n",
    "\n",
    "# Function to generate responses\n",
    "def generate_response(user_input):\n",
    "    st.session_state.chat_history.append({\"role\": \"user\", \"content\": user_input})\n",
    "\n",
    "    # Call the model to get a response\n",
    "    response = client.chat.completions.create(\n",
    "        messages=st.session_state.chat_history,\n",
    "        model=\"gpt-4o\",\n",
    "        temperature=1,\n",
    "        max_tokens=200,\n",
    "        top_p=1\n",
    "    )\n",
    "\n",
    "    # Add the model's response to chat history\n",
    "    assistant_message = response.choices[0].message.content\n",
    "    st.session_state.chat_history.append({\"role\": \"assistant\", \"content\": assistant_message})\n",
    "\n",
    "    return assistant_message\n",
    "\n",
    "# Chat input box\n",
    "user_input = st.text_input(\"Type your message:\", key=\"input\")\n",
    "if user_input:\n",
    "    with st.spinner(\"LingoQuest is typing...\"):\n",
    "        response_text = generate_response(user_input)\n",
    "        st.write(response_text)\n",
    "\n",
    "# Display chat history\n",
    "for message in st.session_state.chat_history:\n",
    "    if message[\"role\"] == \"user\":\n",
    "        st.markdown(f\"**You**: {message['content']}\")\n",
    "    else:\n",
    "        st.markdown(f\"**LingoQuest**: {message['content']}\")\n"
   ]
  },
  {
   "cell_type": "code",
   "execution_count": 5,
   "metadata": {
    "colab": {
     "base_uri": "https://localhost:8080/"
    },
    "id": "e8uFPZeENjgw",
    "outputId": "fec9e065-46fd-4647-e0d3-b8e7aacd133a"
   },
   "outputs": [
    {
     "name": "stdout",
     "output_type": "stream",
     "text": [
      "Authtoken saved to configuration file: /root/.config/ngrok/ngrok.yml\n"
     ]
    }
   ],
   "source": [
    "!ngrok config add-authtoken ngrok_token\n"
   ]
  },
  {
   "cell_type": "code",
   "execution_count": null,
   "metadata": {
    "colab": {
     "base_uri": "https://localhost:8080/"
    },
    "id": "2YrOcvlCNNeb",
    "outputId": "524872bd-b8ed-4a5a-c62d-b03a85520c88"
   },
   "outputs": [
    {
     "name": "stdout",
     "output_type": "stream",
     "text": [
      "Streamlit app is live at: NgrokTunnel: \"https://f6e2-34-16-146-8.ngrok-free.app\" -> \"http://localhost:8501\"\n",
      "\n",
      "Collecting usage statistics. To deactivate, set browser.gatherUsageStats to false.\n",
      "\u001b[0m\n",
      "\u001b[0m\n",
      "\u001b[34m\u001b[1m  You can now view your Streamlit app in your browser.\u001b[0m\n",
      "\u001b[0m\n",
      "\u001b[34m  Local URL: \u001b[0m\u001b[1mhttp://localhost:8501\u001b[0m\n",
      "\u001b[34m  Network URL: \u001b[0m\u001b[1mhttp://172.28.0.12:8501\u001b[0m\n",
      "\u001b[34m  External URL: \u001b[0m\u001b[1mhttp://34.16.146.8:8501\u001b[0m\n",
      "\u001b[0m\n"
     ]
    }
   ],
   "source": [
    "from pyngrok import ngrok\n",
    "\n",
    "# Open a tunnel on port 8501 for Streamlit\n",
    "public_url = ngrok.connect(8501)\n",
    "print(f\"Streamlit app is live at: {public_url}\")\n",
    "\n",
    "# Run Streamlit (this should work after the tunnel is established)\n",
    "!streamlit run app.py --server.port 8501\n"
   ]
  }
 ],
 "metadata": {
  "colab": {
   "authorship_tag": "ABX9TyMu+qPIoiWqssKIXoD+4mTj",
   "include_colab_link": true,
   "provenance": []
  },
  "kernelspec": {
   "display_name": "Python 3",
   "name": "python3"
  },
  "language_info": {
   "name": "python"
  }
 },
 "nbformat": 4,
 "nbformat_minor": 0
}
